{
 "cells": [
  {
   "cell_type": "code",
   "execution_count": 1,
   "id": "3f4e6a1e",
   "metadata": {
    "_cell_guid": "b1076dfc-b9ad-4769-8c92-a6c4dae69d19",
    "_uuid": "8f2839f25d086af736a60e9eeb907d3b93b6e0e5",
    "execution": {
     "iopub.execute_input": "2024-08-25T15:06:55.675032Z",
     "iopub.status.busy": "2024-08-25T15:06:55.674501Z",
     "iopub.status.idle": "2024-08-25T15:06:56.136003Z",
     "shell.execute_reply": "2024-08-25T15:06:56.134876Z"
    },
    "papermill": {
     "duration": 0.470507,
     "end_time": "2024-08-25T15:06:56.138810",
     "exception": false,
     "start_time": "2024-08-25T15:06:55.668303",
     "status": "completed"
    },
    "tags": []
   },
   "outputs": [],
   "source": [
    "# This Python 3 environment comes with many helpful analytics libraries installed\n",
    "# It is defined by the kaggle/python Docker image: https://github.com/kaggle/docker-python\n",
    "# For example, here's several helpful packages to load\n",
    "\n",
    "import numpy as np # linear algebra\n",
    "import pandas as pd # data processing, CSV file I/O (e.g. pd.read_csv)\n",
    "\n",
    "# Input data files are available in the read-only \"../input/\" directory\n",
    "# For example, running this (by clicking run or pressing Shift+Enter) will list all files under the input directory\n",
    "\n",
    "import os\n",
    "for dirname, _, filenames in os.walk('/kaggle/input'):\n",
    "    for filename in filenames:\n",
    "        print(os.path.join(dirname, filename))\n",
    "\n",
    "# You can write up to 20GB to the current directory (/kaggle/working/) that gets preserved as output when you create a version using \"Save & Run All\" \n",
    "# You can also write temporary files to /kaggle/temp/, but they won't be saved outside of the current session"
   ]
  },
  {
   "cell_type": "code",
   "execution_count": 2,
   "id": "90e13d75",
   "metadata": {
    "execution": {
     "iopub.execute_input": "2024-08-25T15:06:56.148159Z",
     "iopub.status.busy": "2024-08-25T15:06:56.147607Z",
     "iopub.status.idle": "2024-08-25T15:06:56.153613Z",
     "shell.execute_reply": "2024-08-25T15:06:56.152524Z"
    },
    "papermill": {
     "duration": 0.013214,
     "end_time": "2024-08-25T15:06:56.156002",
     "exception": false,
     "start_time": "2024-08-25T15:06:56.142788",
     "status": "completed"
    },
    "tags": []
   },
   "outputs": [],
   "source": [
    "def min_max_scaling(data):\n",
    "    min_val=min(data)\n",
    "    max_val=max(data)\n",
    "    scaling_data=[(x-min_val)/(max_val-min_val) for x in data]\n",
    "    return scaling_data\n"
   ]
  },
  {
   "cell_type": "code",
   "execution_count": 3,
   "id": "408d7030",
   "metadata": {
    "execution": {
     "iopub.execute_input": "2024-08-25T15:06:56.164740Z",
     "iopub.status.busy": "2024-08-25T15:06:56.164295Z",
     "iopub.status.idle": "2024-08-25T15:06:56.171328Z",
     "shell.execute_reply": "2024-08-25T15:06:56.170007Z"
    },
    "papermill": {
     "duration": 0.014586,
     "end_time": "2024-08-25T15:06:56.174246",
     "exception": false,
     "start_time": "2024-08-25T15:06:56.159660",
     "status": "completed"
    },
    "tags": []
   },
   "outputs": [
    {
     "name": "stdout",
     "output_type": "stream",
     "text": [
      "orginal data: [1, 20, 30, 5, 4]\n",
      "scaling data: [0.0, 0.6551724137931034, 1.0, 0.13793103448275862, 0.10344827586206896]\n"
     ]
    }
   ],
   "source": [
    "data=[1,20,30,5,4]\n",
    "scaling_data=min_max_scaling(data)\n",
    "print(\"orginal data:\",data)\n",
    "print(\"scaling data:\",scaling_data)"
   ]
  },
  {
   "cell_type": "code",
   "execution_count": 4,
   "id": "6110603e",
   "metadata": {
    "execution": {
     "iopub.execute_input": "2024-08-25T15:06:56.183563Z",
     "iopub.status.busy": "2024-08-25T15:06:56.183125Z",
     "iopub.status.idle": "2024-08-25T15:06:57.406360Z",
     "shell.execute_reply": "2024-08-25T15:06:57.405112Z"
    },
    "papermill": {
     "duration": 1.231178,
     "end_time": "2024-08-25T15:06:57.409220",
     "exception": false,
     "start_time": "2024-08-25T15:06:56.178042",
     "status": "completed"
    },
    "tags": []
   },
   "outputs": [],
   "source": [
    "import pandas as pd\n",
    "from sklearn.preprocessing import MinMaxScaler"
   ]
  },
  {
   "cell_type": "code",
   "execution_count": 5,
   "id": "1fe5955f",
   "metadata": {
    "execution": {
     "iopub.execute_input": "2024-08-25T15:06:57.419389Z",
     "iopub.status.busy": "2024-08-25T15:06:57.418235Z",
     "iopub.status.idle": "2024-08-25T15:06:57.446339Z",
     "shell.execute_reply": "2024-08-25T15:06:57.445131Z"
    },
    "papermill": {
     "duration": 0.035931,
     "end_time": "2024-08-25T15:06:57.449025",
     "exception": false,
     "start_time": "2024-08-25T15:06:57.413094",
     "status": "completed"
    },
    "tags": []
   },
   "outputs": [
    {
     "data": {
      "text/html": [
       "<div>\n",
       "<style scoped>\n",
       "    .dataframe tbody tr th:only-of-type {\n",
       "        vertical-align: middle;\n",
       "    }\n",
       "\n",
       "    .dataframe tbody tr th {\n",
       "        vertical-align: top;\n",
       "    }\n",
       "\n",
       "    .dataframe thead th {\n",
       "        text-align: right;\n",
       "    }\n",
       "</style>\n",
       "<table border=\"1\" class=\"dataframe\">\n",
       "  <thead>\n",
       "    <tr style=\"text-align: right;\">\n",
       "      <th></th>\n",
       "      <th>f1</th>\n",
       "      <th>f2</th>\n",
       "    </tr>\n",
       "  </thead>\n",
       "  <tbody>\n",
       "    <tr>\n",
       "      <th>0</th>\n",
       "      <td>1</td>\n",
       "      <td>6</td>\n",
       "    </tr>\n",
       "    <tr>\n",
       "      <th>1</th>\n",
       "      <td>5</td>\n",
       "      <td>7</td>\n",
       "    </tr>\n",
       "    <tr>\n",
       "      <th>2</th>\n",
       "      <td>10</td>\n",
       "      <td>8</td>\n",
       "    </tr>\n",
       "    <tr>\n",
       "      <th>3</th>\n",
       "      <td>4</td>\n",
       "      <td>19</td>\n",
       "    </tr>\n",
       "    <tr>\n",
       "      <th>4</th>\n",
       "      <td>5</td>\n",
       "      <td>10</td>\n",
       "    </tr>\n",
       "  </tbody>\n",
       "</table>\n",
       "</div>"
      ],
      "text/plain": [
       "   f1  f2\n",
       "0   1   6\n",
       "1   5   7\n",
       "2  10   8\n",
       "3   4  19\n",
       "4   5  10"
      ]
     },
     "execution_count": 5,
     "metadata": {},
     "output_type": "execute_result"
    }
   ],
   "source": [
    "data={\n",
    "    'f1':['1','5','10','4','5'],\n",
    "    'f2':['6','7','8','19','10']\n",
    "}\n",
    "df=pd.DataFrame(data)\n",
    "df.head(5)"
   ]
  },
  {
   "cell_type": "code",
   "execution_count": 6,
   "id": "4c173c22",
   "metadata": {
    "execution": {
     "iopub.execute_input": "2024-08-25T15:06:57.459651Z",
     "iopub.status.busy": "2024-08-25T15:06:57.458595Z",
     "iopub.status.idle": "2024-08-25T15:06:57.471366Z",
     "shell.execute_reply": "2024-08-25T15:06:57.470119Z"
    },
    "papermill": {
     "duration": 0.020616,
     "end_time": "2024-08-25T15:06:57.473837",
     "exception": false,
     "start_time": "2024-08-25T15:06:57.453221",
     "status": "completed"
    },
    "tags": []
   },
   "outputs": [],
   "source": [
    "scaled=MinMaxScaler()\n",
    "scaled_data=scaled.fit_transform(df)\n",
    "scaled_df=pd.DataFrame(scaled_data)"
   ]
  },
  {
   "cell_type": "code",
   "execution_count": 7,
   "id": "a60f2c1d",
   "metadata": {
    "execution": {
     "iopub.execute_input": "2024-08-25T15:06:57.483476Z",
     "iopub.status.busy": "2024-08-25T15:06:57.483078Z",
     "iopub.status.idle": "2024-08-25T15:06:57.492541Z",
     "shell.execute_reply": "2024-08-25T15:06:57.491494Z"
    },
    "papermill": {
     "duration": 0.017163,
     "end_time": "2024-08-25T15:06:57.495044",
     "exception": false,
     "start_time": "2024-08-25T15:06:57.477881",
     "status": "completed"
    },
    "tags": []
   },
   "outputs": [
    {
     "name": "stdout",
     "output_type": "stream",
     "text": [
      "Orginal:    f1  f2\n",
      "0   1   6\n",
      "1   5   7\n",
      "2  10   8\n",
      "3   4  19\n",
      "4   5  10\n",
      "Scaled:           0         1\n",
      "0  0.000000  0.000000\n",
      "1  0.444444  0.076923\n",
      "2  1.000000  0.153846\n",
      "3  0.333333  1.000000\n",
      "4  0.444444  0.307692\n"
     ]
    }
   ],
   "source": [
    "print(\"Orginal:\",df)\n",
    "print(\"Scaled:\",scaled_df)"
   ]
  },
  {
   "cell_type": "code",
   "execution_count": null,
   "id": "b76a80dc",
   "metadata": {
    "papermill": {
     "duration": 0.003826,
     "end_time": "2024-08-25T15:06:57.503096",
     "exception": false,
     "start_time": "2024-08-25T15:06:57.499270",
     "status": "completed"
    },
    "tags": []
   },
   "outputs": [],
   "source": []
  }
 ],
 "metadata": {
  "kaggle": {
   "accelerator": "none",
   "dataSources": [],
   "dockerImageVersionId": 30761,
   "isGpuEnabled": false,
   "isInternetEnabled": false,
   "language": "python",
   "sourceType": "notebook"
  },
  "kernelspec": {
   "display_name": "Python 3",
   "language": "python",
   "name": "python3"
  },
  "language_info": {
   "codemirror_mode": {
    "name": "ipython",
    "version": 3
   },
   "file_extension": ".py",
   "mimetype": "text/x-python",
   "name": "python",
   "nbconvert_exporter": "python",
   "pygments_lexer": "ipython3",
   "version": "3.10.14"
  },
  "papermill": {
   "default_parameters": {},
   "duration": 5.504481,
   "end_time": "2024-08-25T15:06:58.128894",
   "environment_variables": {},
   "exception": null,
   "input_path": "__notebook__.ipynb",
   "output_path": "__notebook__.ipynb",
   "parameters": {},
   "start_time": "2024-08-25T15:06:52.624413",
   "version": "2.6.0"
  }
 },
 "nbformat": 4,
 "nbformat_minor": 5
}
